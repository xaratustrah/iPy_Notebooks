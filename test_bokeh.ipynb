{
 "cells": [
  {
   "cell_type": "code",
   "execution_count": 1,
   "metadata": {
    "collapsed": true
   },
   "outputs": [],
   "source": [
    "from bokeh.plotting import figure, output_notebook, show"
   ]
  },
  {
   "cell_type": "code",
   "execution_count": 2,
   "metadata": {
    "collapsed": false
   },
   "outputs": [
    {
     "data": {
      "text/html": [
       "\n",
       "    <div class=\"bk-root\">\n",
       "        <a href=\"http://bokeh.pydata.org\" target=\"_blank\" class=\"bk-logo bk-logo-small bk-logo-notebook\"></a>\n",
       "        <span id=\"e96bfc91-b3e1-40b0-a316-47f265d5711a\">Loading BokehJS ...</span>\n",
       "    </div>"
      ],
      "text/plain": [
       "\n",
       "    <div class=\"bk-root\">\n",
       "        <a href=\"http://bokeh.pydata.org\" target=\"_blank\" class=\"bk-logo bk-logo-small bk-logo-notebook\"></a>\n",
       "        <span id=\"e96bfc91-b3e1-40b0-a316-47f265d5711a\">Loading BokehJS ...</span>\n",
       "    </div>"
      ]
     },
     "execution_count": 0,
     "metadata": {},
     "output_type": "execute_result"
    },
    {
     "data": {
      "text/html": [
       "\n",
       "    <div class=\"bk-root\">\n",
       "        <a href=\"http://bokeh.pydata.org\" target=\"_blank\" class=\"bk-logo bk-logo-small bk-logo-notebook\"></a>\n",
       "        <span id=\"e96bfc91-b3e1-40b0-a316-47f265d5711a\">Loading BokehJS ...</span>\n",
       "    </div>"
      ],
      "text/plain": [
       "\n",
       "    <div class=\"bk-root\">\n",
       "        <a href=\"http://bokeh.pydata.org\" target=\"_blank\" class=\"bk-logo bk-logo-small bk-logo-notebook\"></a>\n",
       "        <span id=\"e96bfc91-b3e1-40b0-a316-47f265d5711a\">Loading BokehJS ...</span>\n",
       "    </div>"
      ]
     },
     "execution_count": 0,
     "metadata": {},
     "output_type": "execute_result"
    }
   ],
   "source": [
    "output_notebook()"
   ]
  },
  {
   "cell_type": "code",
   "execution_count": 8,
   "metadata": {
    "collapsed": false
   },
   "outputs": [],
   "source": [
    "TOOLS=\"resize,crosshair,pan,wheel_zoom,box_zoom,reset,box_select,lasso_select\"\n",
    "p = figure(tools = TOOLS)"
   ]
  },
  {
   "cell_type": "code",
   "execution_count": 9,
   "metadata": {
    "collapsed": false
   },
   "outputs": [
    {
     "data": {
      "text/html": [
       "<div style=\"display: table;\"><div style=\"display: table-row;\"><div style=\"display: table-cell;\"><b title=\"bokeh.models.renderers.GlyphRenderer\">GlyphRenderer</b>(</div><div style=\"display: table-cell;\">id&nbsp;=&nbsp;'2924d35b-4a0c-431b-88bc-21fb85a6ffc8', <span id=\"933e5d0e-d9f8-4d78-b6ce-fb5f7a735239\" style=\"cursor: pointer;\">&hellip;)</span></div></div><div class=\"d19143ff-b16e-45b5-8ad3-989bd0a6979e\" style=\"display: none;\"><div style=\"display: table-cell;\"></div><div style=\"display: table-cell;\">data_source&nbsp;=&nbsp;ColumnDataSource(id='22caddd1-bac3-4389-8f4d-8bdc00d4e394', ...),</div></div><div class=\"d19143ff-b16e-45b5-8ad3-989bd0a6979e\" style=\"display: none;\"><div style=\"display: table-cell;\"></div><div style=\"display: table-cell;\">glyph&nbsp;=&nbsp;Line(id='35620b5f-cb07-4720-9968-7106ca8aef95', ...),</div></div><div class=\"d19143ff-b16e-45b5-8ad3-989bd0a6979e\" style=\"display: none;\"><div style=\"display: table-cell;\"></div><div style=\"display: table-cell;\">hover_glyph&nbsp;=&nbsp;None,</div></div><div class=\"d19143ff-b16e-45b5-8ad3-989bd0a6979e\" style=\"display: none;\"><div style=\"display: table-cell;\"></div><div style=\"display: table-cell;\">level&nbsp;=&nbsp;'glyph',</div></div><div class=\"d19143ff-b16e-45b5-8ad3-989bd0a6979e\" style=\"display: none;\"><div style=\"display: table-cell;\"></div><div style=\"display: table-cell;\">name&nbsp;=&nbsp;None,</div></div><div class=\"d19143ff-b16e-45b5-8ad3-989bd0a6979e\" style=\"display: none;\"><div style=\"display: table-cell;\"></div><div style=\"display: table-cell;\">nonselection_glyph&nbsp;=&nbsp;Line(id='8dac24b1-0bb6-49c2-a72d-c6b3cf92a2c2', ...),</div></div><div class=\"d19143ff-b16e-45b5-8ad3-989bd0a6979e\" style=\"display: none;\"><div style=\"display: table-cell;\"></div><div style=\"display: table-cell;\">selection_glyph&nbsp;=&nbsp;None,</div></div><div class=\"d19143ff-b16e-45b5-8ad3-989bd0a6979e\" style=\"display: none;\"><div style=\"display: table-cell;\"></div><div style=\"display: table-cell;\">tags&nbsp;=&nbsp;[],</div></div><div class=\"d19143ff-b16e-45b5-8ad3-989bd0a6979e\" style=\"display: none;\"><div style=\"display: table-cell;\"></div><div style=\"display: table-cell;\">visible&nbsp;=&nbsp;True,</div></div><div class=\"d19143ff-b16e-45b5-8ad3-989bd0a6979e\" style=\"display: none;\"><div style=\"display: table-cell;\"></div><div style=\"display: table-cell;\">x_range_name&nbsp;=&nbsp;'default',</div></div><div class=\"d19143ff-b16e-45b5-8ad3-989bd0a6979e\" style=\"display: none;\"><div style=\"display: table-cell;\"></div><div style=\"display: table-cell;\">y_range_name&nbsp;=&nbsp;'default')</div></div></div>\n",
       "<script>\n",
       "(function() {\n",
       "  var expanded = false;\n",
       "  var ellipsis = document.getElementById(\"933e5d0e-d9f8-4d78-b6ce-fb5f7a735239\");\n",
       "  ellipsis.addEventListener(\"click\", function() {\n",
       "    var rows = document.getElementsByClassName(\"d19143ff-b16e-45b5-8ad3-989bd0a6979e\");\n",
       "    for (var i = 0; i < rows.length; i++) {\n",
       "      var el = rows[i];\n",
       "      el.style.display = expanded ? \"none\" : \"table-row\";\n",
       "    }\n",
       "    ellipsis.innerHTML = expanded ? \"&hellip;)\" : \"&lsaquo;&lsaquo;&lsaquo;\";\n",
       "    expanded = !expanded;\n",
       "  });\n",
       "})();\n",
       "</script>\n"
      ],
      "text/plain": [
       "GlyphRenderer(id='2924d35b-4a0c-431b-88bc-21fb85a6ffc8', ...)"
      ]
     },
     "execution_count": 9,
     "metadata": {},
     "output_type": "execute_result"
    }
   ],
   "source": [
    "p.line([2,3,4], [4,5,6], line_width = 2)"
   ]
  },
  {
   "cell_type": "code",
   "execution_count": 10,
   "metadata": {
    "collapsed": false
   },
   "outputs": [
    {
     "data": {
      "text/html": [
       "\n",
       "\n",
       "    <div class=\"bk-root\">\n",
       "        <div class=\"plotdiv\" id=\"54d5a74c-d272-4952-bd45-e833f88f5e8f\"></div>\n",
       "    </div>\n",
       "<script type=\"text/javascript\">\n",
       "  \n",
       "  (function(global) {\n",
       "    function now() {\n",
       "      return new Date();\n",
       "    }\n",
       "  \n",
       "    var force = \"\";\n",
       "  \n",
       "    if (typeof (window._bokeh_onload_callbacks) === \"undefined\" || force !== \"\") {\n",
       "      window._bokeh_onload_callbacks = [];\n",
       "      window._bokeh_is_loading = undefined;\n",
       "    }\n",
       "  \n",
       "  \n",
       "    \n",
       "    if (typeof (window._bokeh_timeout) === \"undefined\" || force !== \"\") {\n",
       "      window._bokeh_timeout = Date.now() + 0;\n",
       "      window._bokeh_failed_load = false;\n",
       "    }\n",
       "  \n",
       "    var NB_LOAD_WARNING = {'data': {'text/html':\n",
       "       \"<div style='background-color: #fdd'>\\n\"+\n",
       "       \"<p>\\n\"+\n",
       "       \"BokehJS does not appear to have successfully loaded. If loading BokehJS from CDN, this \\n\"+\n",
       "       \"may be due to a slow or bad network connection. Possible fixes:\\n\"+\n",
       "       \"</p>\\n\"+\n",
       "       \"<ul>\\n\"+\n",
       "       \"<li>re-rerun `output_notebook()` to attempt to load from CDN again, or</li>\\n\"+\n",
       "       \"<li>use INLINE resources instead, as so:</li>\\n\"+\n",
       "       \"</ul>\\n\"+\n",
       "       \"<code>\\n\"+\n",
       "       \"from bokeh.resources import INLINE\\n\"+\n",
       "       \"output_notebook(resources=INLINE)\\n\"+\n",
       "       \"</code>\\n\"+\n",
       "       \"</div>\"}};\n",
       "  \n",
       "    function display_loaded() {\n",
       "      if (window.Bokeh !== undefined) {\n",
       "        Bokeh.$(\"#54d5a74c-d272-4952-bd45-e833f88f5e8f\").text(\"BokehJS successfully loaded.\");\n",
       "      } else if (Date.now() < window._bokeh_timeout) {\n",
       "        setTimeout(display_loaded, 100)\n",
       "      }\n",
       "    }\n",
       "  \n",
       "    function run_callbacks() {\n",
       "      window._bokeh_onload_callbacks.forEach(function(callback) { callback() });\n",
       "      delete window._bokeh_onload_callbacks\n",
       "      console.info(\"Bokeh: all callbacks have finished\");\n",
       "    }\n",
       "  \n",
       "    function load_libs(js_urls, callback) {\n",
       "      window._bokeh_onload_callbacks.push(callback);\n",
       "      if (window._bokeh_is_loading > 0) {\n",
       "        console.log(\"Bokeh: BokehJS is being loaded, scheduling callback at\", now());\n",
       "        return null;\n",
       "      }\n",
       "      if (js_urls == null || js_urls.length === 0) {\n",
       "        run_callbacks();\n",
       "        return null;\n",
       "      }\n",
       "      console.log(\"Bokeh: BokehJS not loaded, scheduling load and callback at\", now());\n",
       "      window._bokeh_is_loading = js_urls.length;\n",
       "      for (var i = 0; i < js_urls.length; i++) {\n",
       "        var url = js_urls[i];\n",
       "        var s = document.createElement('script');\n",
       "        s.src = url;\n",
       "        s.async = false;\n",
       "        s.onreadystatechange = s.onload = function() {\n",
       "          window._bokeh_is_loading--;\n",
       "          if (window._bokeh_is_loading === 0) {\n",
       "            console.log(\"Bokeh: all BokehJS libraries loaded\");\n",
       "            run_callbacks()\n",
       "          }\n",
       "        };\n",
       "        s.onerror = function() {\n",
       "          console.warn(\"failed to load library \" + url);\n",
       "        };\n",
       "        console.log(\"Bokeh: injecting script tag for BokehJS library: \", url);\n",
       "        document.getElementsByTagName(\"head\")[0].appendChild(s);\n",
       "      }\n",
       "    };var element = document.getElementById(\"54d5a74c-d272-4952-bd45-e833f88f5e8f\");\n",
       "    if (element == null) {\n",
       "      console.log(\"Bokeh: ERROR: autoload.js configured with elementid '54d5a74c-d272-4952-bd45-e833f88f5e8f' but no matching script tag was found. \")\n",
       "      return false;\n",
       "    }\n",
       "  \n",
       "    var js_urls = [];\n",
       "  \n",
       "    var inline_js = [\n",
       "      function(Bokeh) {\n",
       "        Bokeh.$(function() {\n",
       "            var docs_json = {\"359e5a6b-4450-49f6-81bc-01119171c930\":{\"roots\":{\"references\":[{\"attributes\":{\"line_color\":{\"value\":\"#1f77b4\"},\"line_width\":{\"value\":2},\"x\":{\"field\":\"x\"},\"y\":{\"field\":\"y\"}},\"id\":\"35620b5f-cb07-4720-9968-7106ca8aef95\",\"type\":\"Line\"},{\"attributes\":{\"callback\":null,\"overlay\":{\"id\":\"81f3a895-e29c-4941-840d-d8e58ede94c0\",\"type\":\"PolyAnnotation\"},\"plot\":{\"id\":\"716855ef-bb5d-4614-8c93-0c7a31154978\",\"subtype\":\"Figure\",\"type\":\"Plot\"}},\"id\":\"256c1e61-0460-401b-a48a-02b6f3162e42\",\"type\":\"LassoSelectTool\"},{\"attributes\":{\"callback\":null,\"column_names\":[\"x\",\"y\"],\"data\":{\"x\":[2,3,4],\"y\":[4,5,6]}},\"id\":\"22caddd1-bac3-4389-8f4d-8bdc00d4e394\",\"type\":\"ColumnDataSource\"},{\"attributes\":{},\"id\":\"79652e72-8dd6-4080-9892-5b9cf4ef7a97\",\"type\":\"BasicTicker\"},{\"attributes\":{},\"id\":\"5d9c493f-aeea-46bd-95cf-f6341e530bb2\",\"type\":\"BasicTicker\"},{\"attributes\":{\"active_drag\":\"auto\",\"active_scroll\":\"auto\",\"active_tap\":\"auto\",\"tools\":[{\"id\":\"f0237c30-8a1b-4212-aea1-d93abaf03218\",\"type\":\"ResizeTool\"},{\"id\":\"91c542a6-85bb-4eed-9d54-bbf472d07b47\",\"type\":\"CrosshairTool\"},{\"id\":\"3d476b78-bbaa-4a00-91a8-b53aa4c9e225\",\"type\":\"PanTool\"},{\"id\":\"05aa15cf-7f3c-42a5-ae47-59c2a5eb7477\",\"type\":\"WheelZoomTool\"},{\"id\":\"d9326403-16bb-4873-ae3a-eb3d8272eeb9\",\"type\":\"BoxZoomTool\"},{\"id\":\"01afec6d-a2f2-465a-858e-2226d0fb79b3\",\"type\":\"ResetTool\"},{\"id\":\"993bb3d8-d43c-4c68-a180-a8785544bee8\",\"type\":\"BoxSelectTool\"},{\"id\":\"256c1e61-0460-401b-a48a-02b6f3162e42\",\"type\":\"LassoSelectTool\"}]},\"id\":\"23dc92d9-431f-496e-ab9c-415c526363ce\",\"type\":\"Toolbar\"},{\"attributes\":{\"fill_alpha\":{\"value\":0.5},\"fill_color\":{\"value\":\"lightgrey\"},\"level\":\"overlay\",\"line_alpha\":{\"value\":1.0},\"line_color\":{\"value\":\"black\"},\"line_dash\":[4,4],\"line_width\":{\"value\":2},\"plot\":null,\"xs_units\":\"screen\",\"ys_units\":\"screen\"},\"id\":\"81f3a895-e29c-4941-840d-d8e58ede94c0\",\"type\":\"PolyAnnotation\"},{\"attributes\":{\"formatter\":{\"id\":\"e60024ef-8137-4d14-80a6-9d441c8d79dc\",\"type\":\"BasicTickFormatter\"},\"plot\":{\"id\":\"716855ef-bb5d-4614-8c93-0c7a31154978\",\"subtype\":\"Figure\",\"type\":\"Plot\"},\"ticker\":{\"id\":\"79652e72-8dd6-4080-9892-5b9cf4ef7a97\",\"type\":\"BasicTicker\"}},\"id\":\"b189b27a-2550-48b1-a948-f17f567c98d5\",\"type\":\"LinearAxis\"},{\"attributes\":{\"plot\":{\"id\":\"716855ef-bb5d-4614-8c93-0c7a31154978\",\"subtype\":\"Figure\",\"type\":\"Plot\"}},\"id\":\"3d476b78-bbaa-4a00-91a8-b53aa4c9e225\",\"type\":\"PanTool\"},{\"attributes\":{\"plot\":{\"id\":\"716855ef-bb5d-4614-8c93-0c7a31154978\",\"subtype\":\"Figure\",\"type\":\"Plot\"},\"ticker\":{\"id\":\"5d9c493f-aeea-46bd-95cf-f6341e530bb2\",\"type\":\"BasicTicker\"}},\"id\":\"1d3fdd7f-774a-43d6-95b1-f82efe10ede2\",\"type\":\"Grid\"},{\"attributes\":{\"formatter\":{\"id\":\"8ce590c4-cf8e-4bdc-afbe-0bc778581a1f\",\"type\":\"BasicTickFormatter\"},\"plot\":{\"id\":\"716855ef-bb5d-4614-8c93-0c7a31154978\",\"subtype\":\"Figure\",\"type\":\"Plot\"},\"ticker\":{\"id\":\"5d9c493f-aeea-46bd-95cf-f6341e530bb2\",\"type\":\"BasicTicker\"}},\"id\":\"c950ecb1-6a22-4646-bff0-195cdef0a63b\",\"type\":\"LinearAxis\"},{\"attributes\":{\"callback\":null},\"id\":\"d7d47b42-c581-40e7-a2de-653962cc3caa\",\"type\":\"DataRange1d\"},{\"attributes\":{\"bottom_units\":\"screen\",\"fill_alpha\":{\"value\":0.5},\"fill_color\":{\"value\":\"lightgrey\"},\"left_units\":\"screen\",\"level\":\"overlay\",\"line_alpha\":{\"value\":1.0},\"line_color\":{\"value\":\"black\"},\"line_dash\":[4,4],\"line_width\":{\"value\":2},\"plot\":null,\"render_mode\":\"css\",\"right_units\":\"screen\",\"top_units\":\"screen\"},\"id\":\"5f7d9fee-4d85-4059-8d9d-6542f8fe7086\",\"type\":\"BoxAnnotation\"},{\"attributes\":{},\"id\":\"e60024ef-8137-4d14-80a6-9d441c8d79dc\",\"type\":\"BasicTickFormatter\"},{\"attributes\":{\"plot\":{\"id\":\"716855ef-bb5d-4614-8c93-0c7a31154978\",\"subtype\":\"Figure\",\"type\":\"Plot\"}},\"id\":\"01afec6d-a2f2-465a-858e-2226d0fb79b3\",\"type\":\"ResetTool\"},{\"attributes\":{\"line_alpha\":{\"value\":0.1},\"line_color\":{\"value\":\"#1f77b4\"},\"line_width\":{\"value\":2},\"x\":{\"field\":\"x\"},\"y\":{\"field\":\"y\"}},\"id\":\"8dac24b1-0bb6-49c2-a72d-c6b3cf92a2c2\",\"type\":\"Line\"},{\"attributes\":{\"plot\":{\"id\":\"716855ef-bb5d-4614-8c93-0c7a31154978\",\"subtype\":\"Figure\",\"type\":\"Plot\"}},\"id\":\"05aa15cf-7f3c-42a5-ae47-59c2a5eb7477\",\"type\":\"WheelZoomTool\"},{\"attributes\":{\"data_source\":{\"id\":\"22caddd1-bac3-4389-8f4d-8bdc00d4e394\",\"type\":\"ColumnDataSource\"},\"glyph\":{\"id\":\"35620b5f-cb07-4720-9968-7106ca8aef95\",\"type\":\"Line\"},\"hover_glyph\":null,\"nonselection_glyph\":{\"id\":\"8dac24b1-0bb6-49c2-a72d-c6b3cf92a2c2\",\"type\":\"Line\"},\"selection_glyph\":null},\"id\":\"2924d35b-4a0c-431b-88bc-21fb85a6ffc8\",\"type\":\"GlyphRenderer\"},{\"attributes\":{\"callback\":null},\"id\":\"817b823b-26a7-46a7-bb10-0bc43f3b5c1e\",\"type\":\"DataRange1d\"},{\"attributes\":{},\"id\":\"3827f698-4517-4a00-b872-6e1bd68b7f3d\",\"type\":\"ToolEvents\"},{\"attributes\":{\"bottom_units\":\"screen\",\"fill_alpha\":{\"value\":0.5},\"fill_color\":{\"value\":\"lightgrey\"},\"left_units\":\"screen\",\"level\":\"overlay\",\"line_alpha\":{\"value\":1.0},\"line_color\":{\"value\":\"black\"},\"line_dash\":[4,4],\"line_width\":{\"value\":2},\"plot\":null,\"render_mode\":\"css\",\"right_units\":\"screen\",\"top_units\":\"screen\"},\"id\":\"c2fbe965-d367-400a-96ec-763daeb71ad8\",\"type\":\"BoxAnnotation\"},{\"attributes\":{\"callback\":null,\"overlay\":{\"id\":\"5f7d9fee-4d85-4059-8d9d-6542f8fe7086\",\"type\":\"BoxAnnotation\"},\"plot\":{\"id\":\"716855ef-bb5d-4614-8c93-0c7a31154978\",\"subtype\":\"Figure\",\"type\":\"Plot\"},\"renderers\":[{\"id\":\"2924d35b-4a0c-431b-88bc-21fb85a6ffc8\",\"type\":\"GlyphRenderer\"}]},\"id\":\"993bb3d8-d43c-4c68-a180-a8785544bee8\",\"type\":\"BoxSelectTool\"},{\"attributes\":{\"dimension\":1,\"plot\":{\"id\":\"716855ef-bb5d-4614-8c93-0c7a31154978\",\"subtype\":\"Figure\",\"type\":\"Plot\"},\"ticker\":{\"id\":\"79652e72-8dd6-4080-9892-5b9cf4ef7a97\",\"type\":\"BasicTicker\"}},\"id\":\"e4c68d53-00ce-42ae-8df4-16fafce3afa1\",\"type\":\"Grid\"},{\"attributes\":{\"plot\":null,\"text\":null},\"id\":\"cca213b6-db7b-4ab3-8ebc-361d66c0e478\",\"type\":\"Title\"},{\"attributes\":{\"plot\":{\"id\":\"716855ef-bb5d-4614-8c93-0c7a31154978\",\"subtype\":\"Figure\",\"type\":\"Plot\"}},\"id\":\"f0237c30-8a1b-4212-aea1-d93abaf03218\",\"type\":\"ResizeTool\"},{\"attributes\":{\"overlay\":{\"id\":\"c2fbe965-d367-400a-96ec-763daeb71ad8\",\"type\":\"BoxAnnotation\"},\"plot\":{\"id\":\"716855ef-bb5d-4614-8c93-0c7a31154978\",\"subtype\":\"Figure\",\"type\":\"Plot\"}},\"id\":\"d9326403-16bb-4873-ae3a-eb3d8272eeb9\",\"type\":\"BoxZoomTool\"},{\"attributes\":{\"below\":[{\"id\":\"c950ecb1-6a22-4646-bff0-195cdef0a63b\",\"type\":\"LinearAxis\"}],\"left\":[{\"id\":\"b189b27a-2550-48b1-a948-f17f567c98d5\",\"type\":\"LinearAxis\"}],\"renderers\":[{\"id\":\"c950ecb1-6a22-4646-bff0-195cdef0a63b\",\"type\":\"LinearAxis\"},{\"id\":\"1d3fdd7f-774a-43d6-95b1-f82efe10ede2\",\"type\":\"Grid\"},{\"id\":\"b189b27a-2550-48b1-a948-f17f567c98d5\",\"type\":\"LinearAxis\"},{\"id\":\"e4c68d53-00ce-42ae-8df4-16fafce3afa1\",\"type\":\"Grid\"},{\"id\":\"c2fbe965-d367-400a-96ec-763daeb71ad8\",\"type\":\"BoxAnnotation\"},{\"id\":\"5f7d9fee-4d85-4059-8d9d-6542f8fe7086\",\"type\":\"BoxAnnotation\"},{\"id\":\"81f3a895-e29c-4941-840d-d8e58ede94c0\",\"type\":\"PolyAnnotation\"},{\"id\":\"2924d35b-4a0c-431b-88bc-21fb85a6ffc8\",\"type\":\"GlyphRenderer\"}],\"title\":{\"id\":\"cca213b6-db7b-4ab3-8ebc-361d66c0e478\",\"type\":\"Title\"},\"tool_events\":{\"id\":\"3827f698-4517-4a00-b872-6e1bd68b7f3d\",\"type\":\"ToolEvents\"},\"toolbar\":{\"id\":\"23dc92d9-431f-496e-ab9c-415c526363ce\",\"type\":\"Toolbar\"},\"x_range\":{\"id\":\"d7d47b42-c581-40e7-a2de-653962cc3caa\",\"type\":\"DataRange1d\"},\"y_range\":{\"id\":\"817b823b-26a7-46a7-bb10-0bc43f3b5c1e\",\"type\":\"DataRange1d\"}},\"id\":\"716855ef-bb5d-4614-8c93-0c7a31154978\",\"subtype\":\"Figure\",\"type\":\"Plot\"},{\"attributes\":{},\"id\":\"8ce590c4-cf8e-4bdc-afbe-0bc778581a1f\",\"type\":\"BasicTickFormatter\"},{\"attributes\":{\"plot\":{\"id\":\"716855ef-bb5d-4614-8c93-0c7a31154978\",\"subtype\":\"Figure\",\"type\":\"Plot\"}},\"id\":\"91c542a6-85bb-4eed-9d54-bbf472d07b47\",\"type\":\"CrosshairTool\"}],\"root_ids\":[\"716855ef-bb5d-4614-8c93-0c7a31154978\"]},\"title\":\"Bokeh Application\",\"version\":\"0.12.3\"}};\n",
       "            var render_items = [{\"docid\":\"359e5a6b-4450-49f6-81bc-01119171c930\",\"elementid\":\"54d5a74c-d272-4952-bd45-e833f88f5e8f\",\"modelid\":\"716855ef-bb5d-4614-8c93-0c7a31154978\"}];\n",
       "            \n",
       "            Bokeh.embed.embed_items(docs_json, render_items);\n",
       "        });\n",
       "      },\n",
       "      function(Bokeh) {\n",
       "      }\n",
       "    ];\n",
       "  \n",
       "    function run_inline_js() {\n",
       "      \n",
       "      if ((window.Bokeh !== undefined) || (force === \"1\")) {\n",
       "        for (var i = 0; i < inline_js.length; i++) {\n",
       "          inline_js[i](window.Bokeh);\n",
       "        }if (force === \"1\") {\n",
       "          display_loaded();\n",
       "        }} else if (Date.now() < window._bokeh_timeout) {\n",
       "        setTimeout(run_inline_js, 100);\n",
       "      } else if (!window._bokeh_failed_load) {\n",
       "        console.log(\"Bokeh: BokehJS failed to load within specified timeout.\");\n",
       "        window._bokeh_failed_load = true;\n",
       "      } else if (!force) {\n",
       "        var cell = $(\"#54d5a74c-d272-4952-bd45-e833f88f5e8f\").parents('.cell').data().cell;\n",
       "        cell.output_area.append_execute_result(NB_LOAD_WARNING)\n",
       "      }\n",
       "  \n",
       "    }\n",
       "  \n",
       "    if (window._bokeh_is_loading === 0) {\n",
       "      console.log(\"Bokeh: BokehJS loaded, going straight to plotting\");\n",
       "      run_inline_js();\n",
       "    } else {\n",
       "      load_libs(js_urls, function() {\n",
       "        console.log(\"Bokeh: BokehJS plotting callback run at\", now());\n",
       "        run_inline_js();\n",
       "      });\n",
       "    }\n",
       "  }(this));\n",
       "</script>"
      ]
     },
     "metadata": {},
     "output_type": "execute_result"
    }
   ],
   "source": [
    "show(p)"
   ]
  },
  {
   "cell_type": "code",
   "execution_count": 11,
   "metadata": {
    "collapsed": true
   },
   "outputs": [],
   "source": [
    "from bokeh.plotting import figure\n",
    "from bokeh.embed import components\n",
    "\n",
    "plot = figure()\n",
    "plot.circle([1,2], [3,4])\n",
    "\n",
    "script, div = components(plot)"
   ]
  },
  {
   "cell_type": "code",
   "execution_count": 12,
   "metadata": {
    "collapsed": false
   },
   "outputs": [
    {
     "data": {
      "text/plain": [
       "'\\n<script type=\"text/javascript\">\\n    Bokeh.$(function() {\\n    Bokeh.safely(function() {\\n        var docs_json = {\"48227128-0252-4f8a-9618-ccf0e88cae7c\":{\"roots\":{\"references\":[{\"attributes\":{\"active_drag\":\"auto\",\"active_scroll\":\"auto\",\"active_tap\":\"auto\",\"tools\":[{\"id\":\"f344fce8-93cc-4a07-860d-cc096e8bffab\",\"type\":\"PanTool\"},{\"id\":\"84376f3a-6d78-406d-ac97-2fce86ad7055\",\"type\":\"WheelZoomTool\"},{\"id\":\"1b1e75a4-bd39-45ba-81ba-8c39ca13e7f5\",\"type\":\"BoxZoomTool\"},{\"id\":\"8c23a9ce-5b64-4378-8fa5-5a3425c61259\",\"type\":\"SaveTool\"},{\"id\":\"da62d237-0031-42c9-b40c-6190b7b78da9\",\"type\":\"ResetTool\"},{\"id\":\"76194e65-d33f-4877-bbde-9ffe002aa5c7\",\"type\":\"HelpTool\"}]},\"id\":\"26639cd9-02ae-4f56-9408-510cdc1a242d\",\"type\":\"Toolbar\"},{\"attributes\":{\"callback\":null},\"id\":\"bc77e94a-6604-4c8d-82f5-b5cc88cd1431\",\"type\":\"DataRange1d\"},{\"attributes\":{\"formatter\":{\"id\":\"65b7d6bd-4d32-468e-8f23-4c3708cfb99d\",\"type\":\"BasicTickFormatter\"},\"plot\":{\"id\":\"0c89cf43-afb9-471d-ab24-6a9780c96cf3\",\"subtype\":\"Figure\",\"type\":\"Plot\"},\"ticker\":{\"id\":\"e335479e-7a59-463a-8948-18631687f7b9\",\"type\":\"BasicTicker\"}},\"id\":\"29533335-c478-423b-ba7e-5dd28e87ec69\",\"type\":\"LinearAxis\"},{\"attributes\":{\"below\":[{\"id\":\"29533335-c478-423b-ba7e-5dd28e87ec69\",\"type\":\"LinearAxis\"}],\"left\":[{\"id\":\"9eabab7d-b76f-4e17-8f07-8c3217028e02\",\"type\":\"LinearAxis\"}],\"renderers\":[{\"id\":\"29533335-c478-423b-ba7e-5dd28e87ec69\",\"type\":\"LinearAxis\"},{\"id\":\"fb595b87-1a71-465e-a7bb-3e0db1f9db45\",\"type\":\"Grid\"},{\"id\":\"9eabab7d-b76f-4e17-8f07-8c3217028e02\",\"type\":\"LinearAxis\"},{\"id\":\"58b29498-369e-45c0-85e4-c00c15ab4a7f\",\"type\":\"Grid\"},{\"id\":\"26257d23-7128-4d35-a621-83d966a08a28\",\"type\":\"BoxAnnotation\"},{\"id\":\"8d6529d8-33b0-4b26-ab7d-7c6a24a6fece\",\"type\":\"GlyphRenderer\"}],\"title\":{\"id\":\"d121f86c-1497-4059-ad29-24ba53761da2\",\"type\":\"Title\"},\"tool_events\":{\"id\":\"047685a1-3f5d-4af5-b2a4-03047c50687a\",\"type\":\"ToolEvents\"},\"toolbar\":{\"id\":\"26639cd9-02ae-4f56-9408-510cdc1a242d\",\"type\":\"Toolbar\"},\"x_range\":{\"id\":\"5b52fea8-b057-48c7-8561-7e56500d77f1\",\"type\":\"DataRange1d\"},\"y_range\":{\"id\":\"bc77e94a-6604-4c8d-82f5-b5cc88cd1431\",\"type\":\"DataRange1d\"}},\"id\":\"0c89cf43-afb9-471d-ab24-6a9780c96cf3\",\"subtype\":\"Figure\",\"type\":\"Plot\"},{\"attributes\":{\"plot\":{\"id\":\"0c89cf43-afb9-471d-ab24-6a9780c96cf3\",\"subtype\":\"Figure\",\"type\":\"Plot\"}},\"id\":\"da62d237-0031-42c9-b40c-6190b7b78da9\",\"type\":\"ResetTool\"},{\"attributes\":{\"fill_color\":{\"value\":\"#1f77b4\"},\"line_color\":{\"value\":\"#1f77b4\"},\"x\":{\"field\":\"x\"},\"y\":{\"field\":\"y\"}},\"id\":\"1b215de4-89d1-4401-8161-ddb4be9a5a45\",\"type\":\"Circle\"},{\"attributes\":{\"plot\":{\"id\":\"0c89cf43-afb9-471d-ab24-6a9780c96cf3\",\"subtype\":\"Figure\",\"type\":\"Plot\"}},\"id\":\"84376f3a-6d78-406d-ac97-2fce86ad7055\",\"type\":\"WheelZoomTool\"},{\"attributes\":{},\"id\":\"e335479e-7a59-463a-8948-18631687f7b9\",\"type\":\"BasicTicker\"},{\"attributes\":{\"callback\":null},\"id\":\"5b52fea8-b057-48c7-8561-7e56500d77f1\",\"type\":\"DataRange1d\"},{\"attributes\":{},\"id\":\"047685a1-3f5d-4af5-b2a4-03047c50687a\",\"type\":\"ToolEvents\"},{\"attributes\":{\"bottom_units\":\"screen\",\"fill_alpha\":{\"value\":0.5},\"fill_color\":{\"value\":\"lightgrey\"},\"left_units\":\"screen\",\"level\":\"overlay\",\"line_alpha\":{\"value\":1.0},\"line_color\":{\"value\":\"black\"},\"line_dash\":[4,4],\"line_width\":{\"value\":2},\"plot\":null,\"render_mode\":\"css\",\"right_units\":\"screen\",\"top_units\":\"screen\"},\"id\":\"26257d23-7128-4d35-a621-83d966a08a28\",\"type\":\"BoxAnnotation\"},{\"attributes\":{\"callback\":null,\"column_names\":[\"x\",\"y\"],\"data\":{\"x\":[1,2],\"y\":[3,4]}},\"id\":\"edc7d3bc-886e-4157-9a98-b310dd53a720\",\"type\":\"ColumnDataSource\"},{\"attributes\":{\"overlay\":{\"id\":\"26257d23-7128-4d35-a621-83d966a08a28\",\"type\":\"BoxAnnotation\"},\"plot\":{\"id\":\"0c89cf43-afb9-471d-ab24-6a9780c96cf3\",\"subtype\":\"Figure\",\"type\":\"Plot\"}},\"id\":\"1b1e75a4-bd39-45ba-81ba-8c39ca13e7f5\",\"type\":\"BoxZoomTool\"},{\"attributes\":{\"fill_alpha\":{\"value\":0.1},\"fill_color\":{\"value\":\"#1f77b4\"},\"line_alpha\":{\"value\":0.1},\"line_color\":{\"value\":\"#1f77b4\"},\"x\":{\"field\":\"x\"},\"y\":{\"field\":\"y\"}},\"id\":\"ad19d696-8419-4adf-b862-2d492dbb649b\",\"type\":\"Circle\"},{\"attributes\":{},\"id\":\"65b7d6bd-4d32-468e-8f23-4c3708cfb99d\",\"type\":\"BasicTickFormatter\"},{\"attributes\":{\"dimension\":1,\"plot\":{\"id\":\"0c89cf43-afb9-471d-ab24-6a9780c96cf3\",\"subtype\":\"Figure\",\"type\":\"Plot\"},\"ticker\":{\"id\":\"3c68575c-6e8f-40d5-bd29-519b93e37dce\",\"type\":\"BasicTicker\"}},\"id\":\"58b29498-369e-45c0-85e4-c00c15ab4a7f\",\"type\":\"Grid\"},{\"attributes\":{\"plot\":{\"id\":\"0c89cf43-afb9-471d-ab24-6a9780c96cf3\",\"subtype\":\"Figure\",\"type\":\"Plot\"},\"ticker\":{\"id\":\"e335479e-7a59-463a-8948-18631687f7b9\",\"type\":\"BasicTicker\"}},\"id\":\"fb595b87-1a71-465e-a7bb-3e0db1f9db45\",\"type\":\"Grid\"},{\"attributes\":{},\"id\":\"1e45b2e5-875d-44d7-b2b3-9a318fb2eef1\",\"type\":\"BasicTickFormatter\"},{\"attributes\":{\"plot\":{\"id\":\"0c89cf43-afb9-471d-ab24-6a9780c96cf3\",\"subtype\":\"Figure\",\"type\":\"Plot\"}},\"id\":\"76194e65-d33f-4877-bbde-9ffe002aa5c7\",\"type\":\"HelpTool\"},{\"attributes\":{\"plot\":null,\"text\":null},\"id\":\"d121f86c-1497-4059-ad29-24ba53761da2\",\"type\":\"Title\"},{\"attributes\":{},\"id\":\"3c68575c-6e8f-40d5-bd29-519b93e37dce\",\"type\":\"BasicTicker\"},{\"attributes\":{\"plot\":{\"id\":\"0c89cf43-afb9-471d-ab24-6a9780c96cf3\",\"subtype\":\"Figure\",\"type\":\"Plot\"}},\"id\":\"8c23a9ce-5b64-4378-8fa5-5a3425c61259\",\"type\":\"SaveTool\"},{\"attributes\":{\"plot\":{\"id\":\"0c89cf43-afb9-471d-ab24-6a9780c96cf3\",\"subtype\":\"Figure\",\"type\":\"Plot\"}},\"id\":\"f344fce8-93cc-4a07-860d-cc096e8bffab\",\"type\":\"PanTool\"},{\"attributes\":{\"data_source\":{\"id\":\"edc7d3bc-886e-4157-9a98-b310dd53a720\",\"type\":\"ColumnDataSource\"},\"glyph\":{\"id\":\"1b215de4-89d1-4401-8161-ddb4be9a5a45\",\"type\":\"Circle\"},\"hover_glyph\":null,\"nonselection_glyph\":{\"id\":\"ad19d696-8419-4adf-b862-2d492dbb649b\",\"type\":\"Circle\"},\"selection_glyph\":null},\"id\":\"8d6529d8-33b0-4b26-ab7d-7c6a24a6fece\",\"type\":\"GlyphRenderer\"},{\"attributes\":{\"formatter\":{\"id\":\"1e45b2e5-875d-44d7-b2b3-9a318fb2eef1\",\"type\":\"BasicTickFormatter\"},\"plot\":{\"id\":\"0c89cf43-afb9-471d-ab24-6a9780c96cf3\",\"subtype\":\"Figure\",\"type\":\"Plot\"},\"ticker\":{\"id\":\"3c68575c-6e8f-40d5-bd29-519b93e37dce\",\"type\":\"BasicTicker\"}},\"id\":\"9eabab7d-b76f-4e17-8f07-8c3217028e02\",\"type\":\"LinearAxis\"}],\"root_ids\":[\"0c89cf43-afb9-471d-ab24-6a9780c96cf3\"]},\"title\":\"Bokeh Application\",\"version\":\"0.12.3\"}};\\n        var render_items = [{\"docid\":\"48227128-0252-4f8a-9618-ccf0e88cae7c\",\"elementid\":\"351068b8-02a1-4c30-8231-844fdbc4f931\",\"modelid\":\"0c89cf43-afb9-471d-ab24-6a9780c96cf3\"}];\\n        \\n        Bokeh.embed.embed_items(docs_json, render_items);\\n    });\\n});\\n</script>'"
      ]
     },
     "execution_count": 12,
     "metadata": {},
     "output_type": "execute_result"
    }
   ],
   "source": [
    "script"
   ]
  },
  {
   "cell_type": "code",
   "execution_count": 13,
   "metadata": {
    "collapsed": false
   },
   "outputs": [
    {
     "data": {
      "text/plain": [
       "'\\n<div class=\"bk-root\">\\n    <div class=\"plotdiv\" id=\"351068b8-02a1-4c30-8231-844fdbc4f931\"></div>\\n</div>'"
      ]
     },
     "execution_count": 13,
     "metadata": {},
     "output_type": "execute_result"
    }
   ],
   "source": [
    "div"
   ]
  },
  {
   "cell_type": "code",
   "execution_count": null,
   "metadata": {
    "collapsed": true
   },
   "outputs": [],
   "source": [
    ""
   ]
  }
 ],
 "metadata": {
  "kernelspec": {
   "display_name": "Python 3",
   "language": "python",
   "name": "python3"
  },
  "language_info": {
   "codemirror_mode": {
    "name": "ipython",
    "version": 3.0
   },
   "file_extension": ".py",
   "mimetype": "text/x-python",
   "name": "python",
   "nbconvert_exporter": "python",
   "pygments_lexer": "ipython3",
   "version": "3.4.5"
  }
 },
 "nbformat": 4,
 "nbformat_minor": 0
}