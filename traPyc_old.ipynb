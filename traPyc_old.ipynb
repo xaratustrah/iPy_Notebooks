{
 "metadata": {
  "name": "",
  "signature": "sha256:c212e9bdc0e863a5fc6dff6cdc3f4843aea6fb0b8f8bf230906f433d2fc6b2af"
 },
 "nbformat": 3,
 "nbformat_minor": 0,
 "worksheets": [
  {
   "cells": [
    {
     "cell_type": "code",
     "collapsed": false,
     "input": [
      "%reset -f\n",
      "%matplotlib inline\n",
      "import os\n",
      "import numpy as np\n",
      "import matplotlib.pyplot as plt\n",
      "import matplotlib.patches as mpatches"
     ],
     "language": "python",
     "metadata": {},
     "outputs": [],
     "prompt_number": 78
    },
    {
     "cell_type": "code",
     "collapsed": false,
     "input": [
      "class Component:\n",
      "    def __init__(self, typ, name, length, strength, param = 0):\n",
      "        self.length = length\n",
      "        self.strength = strength\n",
      "        self.param = param\n",
      "        self.name = name\n",
      "        self.typ = typ.lower()\n",
      "\n",
      "        if self.typ == 'qf':\n",
      "            self.mat = self.m_qf(self.length, self.strength)\n",
      "        \n",
      "        if self.typ == 'qd':\n",
      "            self.mat = self.m_qd(self.length, self.strength)\n",
      "        \n",
      "        if self.typ == 'b':\n",
      "            self.mat = self.m_b(self.length, self.strength)\n",
      "        \n",
      "        if self.typ == 'eb':\n",
      "            self.mat = self.m_eb(self.strength, self.param)\n",
      "\n",
      "        if self.typ == 'd':\n",
      "            self.mat = self.m_d(self.length)\n",
      "        \n",
      "    def m_d(self, s):\n",
      "        return np.array([[1, s, 0, 0, 0],\n",
      "                          [0, 1, 0, 0, 0], \n",
      "                          [0, 0, 1, s, 0],\n",
      "                          [0, 0, 0, 1, 0],\n",
      "                          [0, 0, 0, 0, 1]])\n",
      "    def m_qf(self, s, k):\n",
      "        if k >= 0:\n",
      "            return np.zeros((5,5))\n",
      "        sq_abs_k = np.sqrt(np.abs(k))\n",
      "        Omega = sq_abs_k*s\n",
      "        return np.array([[np.cos(Omega), np.sin(Omega)/sq_abs_k, 0, 0, 0], \n",
      "                          [-sq_abs_k*np.sin(Omega), np.cos(Omega), 0, 0, 0],\n",
      "                          [0, 0, np.cosh(Omega), np.sinh(Omega)/sq_abs_k, 0],\n",
      "                          [0, 0, sq_abs_k * np.sinh(Omega), np.cosh(Omega), 0],\n",
      "                          [0, 0, 0, 0, 1]])\n",
      "    def m_qd(self, s, k):\n",
      "        if k <= 0:\n",
      "            return np.zeros((5,5))\n",
      "        sq_abs_k = np.sqrt(np.abs(k))\n",
      "        Omega = sq_abs_k*s\n",
      "        return np.array([[np.cosh(Omega), np.sinh(Omega)/sq_abs_k, 0, 0, 0], \n",
      "                          [sq_abs_k*np.sinh(Omega), np.cosh(Omega), 0, 0, 0],\n",
      "                          [0, 0, np.cos(Omega), np.sin(Omega)/sq_abs_k, 0],\n",
      "                          [0, 0, -sq_abs_k * np.sin(Omega), np.cos(Omega), 0],\n",
      "                          [0, 0, 0, 0, 1]])\n",
      "    def m_b(self, s, R):\n",
      "        if R <= 0:\n",
      "            return np.zeros((5,5))\n",
      "        chi = s/R\n",
      "        return np.array([[np.cos(chi), R*np.sin(chi), 0, 0, R*(1-np.cos(chi))], \n",
      "                          [-np.sin(chi)/R, np.cos(chi), 0, 0, np.sin(chi)],\n",
      "                          [0, 0, 1, s, 0],\n",
      "                          [0, 0, 0, 1, 0],\n",
      "                          [0, 0, 0, 0, 1]])\n",
      "\n",
      "    def m_eb(self, R, psi):\n",
      "        if R <= 0:\n",
      "            return np.zeros((5,5))\n",
      "        psi = np.deg2rad(psi)\n",
      "        return np.array([[1, 0, 0, 0, 0], \n",
      "                          [np.tan(psi/R), 1, 0, 0, 0],\n",
      "                          [0, 0, 1, 0, 0],\n",
      "                          [0, 0, -np.tan(psi)/R, 1, 0],\n",
      "                          [0, 0, 0, 0, 1]])"
     ],
     "language": "python",
     "metadata": {},
     "outputs": [],
     "prompt_number": 79
    },
    {
     "cell_type": "code",
     "collapsed": false,
     "input": [
      "class Cell:\n",
      "    def __init__(self, filename):\n",
      "        \n",
      "        self.filename = filename\n",
      "        with open(self.filename) as f:\n",
      "            self.title = f.readline().replace('#', '')\n",
      "        lat = np.genfromtxt(filename, dtype = None)\n",
      "        self.component_list = []\n",
      "        self.length_list = []\n",
      "        self.component_number = np.size(lat)\n",
      "        self.length_list_sum = [0]\n",
      "\n",
      "        for i in range (np.size(lat)):\n",
      "            if np.size(lat) == 1:\n",
      "                c = Component(lat[()][0].decode(\"utf-8\"), lat[()][1], lat[()][2], lat[()][3], lat[()][4])\n",
      "            else:\n",
      "                c = Component(lat[i][0].decode(\"utf-8\"), lat[i][1], lat[i][2], lat[i][3], lat[i][4])\n",
      "            self.component_list.append(c)\n",
      "            self.length_list.append(c.length)\n",
      "            self.length_list_sum.append(self.length_list_sum[i] + c.length)\n",
      "            \n",
      "    def beta_a_x(self, m):\n",
      "        return np.sqrt(-(m[0][1]*m[1][1])/(m[1][0]*m[0][0]))\n",
      "\n",
      "    def beta_b_x(self, m):\n",
      "        return -1/self.beta_a_x(m) * m[0][1]/m[1][0]\n",
      "\n",
      "    def beta_a_y(self, m):\n",
      "        return np.sqrt(-(m[2][3]*m[3][3])/(m[3][2]*m[3][3]))\n",
      "    \n",
      "    def beta_b_y(self, m):\n",
      "        return -1/self.beta_a_y(m) * m[2][3]/m[3][2]\n",
      "    \n",
      "    def d_a_x(self, m):\n",
      "        return -m[1][4]/m[1][0]\n",
      "    \n",
      "    def d_a_y(self, m):\n",
      "        return -m[0][0]*m[1][4]/m[1][0]+m[0][4]\n",
      "    \n",
      "    def total_matrix(self):\n",
      "        m = np.identity(5)\n",
      "#        for i in range(self.component_number):\n",
      "        for i in range(len(self.component_list)):\n",
      "            m = np.dot(m, self.component_list[i].mat)\n",
      "        return m\n",
      "    \n",
      "    def plot_cell(self):\n",
      "        bx, by = self.evolve_beta()\n",
      "        plt.xlabel('s [m]')\n",
      "        plt.plot(self.length_list_sum, bx, label = 'beta_x', color = 'red')\n",
      "        ax1=plt.gca()\n",
      "        ax1.set_ylabel('beta_x [m]', color = 'red')\n",
      "        ax2 = ax1.twinx()\n",
      "        ax2.plot(self.length_list_sum, by, label = 'beta_y', color = 'blue')\n",
      "        ax2.set_ylabel('beta_y [m]', color  = 'blue')\n",
      "#        plt.grid(True)\n",
      "        plt.title(self.title)\n",
      "\n",
      "        line = plt.gca().get_lines()[0]\n",
      "        maximum = line.get_ydata().max()\n",
      "#        maximum = max(ax1.get_lines()[0].get_ydata().max(), ax2.get_lines()[0].get_ydata().max())\n",
      "#        print(maximum)\n",
      "        cnt = 0\n",
      "        \n",
      "        for i in range (self.component_number):\n",
      "            if self.component_list[i].typ == 'qd' or self.component_list[i].typ == 'qf': \n",
      "                rect = mpatches.Rectangle((cnt, maximum), self.length_list[i], 3, ec=\"none\", color = 'orange')\n",
      "            if self.component_list[i].typ == 'b':\n",
      "                rect = mpatches.Rectangle((cnt, maximum), self.length_list[i], 3, ec=\"none\", color = 'red')\n",
      "            if self.component_list[i].typ == 'd':\n",
      "                rect = mpatches.Rectangle((cnt, maximum + 1), self.length_list[i], 0.3, ec=\"none\", color = 'black')    \n",
      "            cnt = cnt + self.length_list[i]\n",
      "            plt.gca().add_patch(rect)\n",
      "        plt.show()\n",
      "        plt.savefig(os.path.splitext(self.filename)[0]+'.pdf')\n",
      "    \n",
      "    def evolve_beta(self):\n",
      "        Bx0 = self.beta_a_x(self.total_matrix())\n",
      "        By0 = self.beta_a_y(self.total_matrix())\n",
      "        B0= np.array([[Bx0, 0, 0, 0, 0],\n",
      "                     [0, 1/Bx0, 0, 0, 0],\n",
      "                     [0, 0, By0, 0, 0],\n",
      "                     [0, 0, 0, 1/By0, 0] ,\n",
      "                     [0, 0, 0, 0, 1]\n",
      "                     ])\n",
      "        B = B0\n",
      "        beta_x_list, beta_y_list = [], []\n",
      "        for i in range(len(self.component_list)):\n",
      "            M = self.component_list[i].mat\n",
      "            B = np.dot(np.dot(M, B), M.T)\n",
      "            beta_x_list.append(B[0][0])\n",
      "            beta_y_list.append(B[3][3])\n",
      "        beta_x_list.append(self.beta_b_x(self.total_matrix()))\n",
      "        beta_y_list.append(self.beta_b_y(self.total_matrix()))\n",
      "        return beta_x_list, beta_y_list"
     ],
     "language": "python",
     "metadata": {},
     "outputs": [],
     "prompt_number": 89
    },
    {
     "cell_type": "code",
     "collapsed": false,
     "input": [
      "c = Cell('/Users/shahab/Desktop/wille_fodo.lat')\n",
      "c.total_matrix()"
     ],
     "language": "python",
     "metadata": {},
     "outputs": [
      {
       "metadata": {},
       "output_type": "pyout",
       "prompt_number": 90,
       "text": [
        "array([[ 0.07458577,  9.76525925,  0.        ,  0.        ,  3.1390034 ],\n",
        "       [-0.10183416,  0.07458577,  0.        ,  0.        ,  0.34542128],\n",
        "       [ 0.        ,  0.        , -0.4114492 ,  1.12797362,  0.        ],\n",
        "       [ 0.        ,  0.        , -0.73646186, -0.4114492 ,  0.        ],\n",
        "       [ 0.        ,  0.        ,  0.        ,  0.        ,  1.        ]])"
       ]
      }
     ],
     "prompt_number": 90
    },
    {
     "cell_type": "code",
     "collapsed": false,
     "input": [
      "c.plot_cell()"
     ],
     "language": "python",
     "metadata": {},
     "outputs": [
      {
       "metadata": {},
       "output_type": "display_data",
       "png": "[encoded data removed]",
       "text": [
        "<matplotlib.figure.Figure at 0x108513588>"
       ]
      },
      {
       "metadata": {},
       "output_type": "display_data",
       "text": [
        "<matplotlib.figure.Figure at 0x1088a06d8>"
       ]
      }
     ],
     "prompt_number": 91
    },
    {
     "cell_type": "code",
     "collapsed": false,
     "input": [],
     "language": "python",
     "metadata": {},
     "outputs": [],
     "prompt_number": 91
    },
    {
     "cell_type": "code",
     "collapsed": false,
     "input": [],
     "language": "python",
     "metadata": {},
     "outputs": [],
     "prompt_number": 88
    },
    {
     "cell_type": "code",
     "collapsed": false,
     "input": [],
     "language": "python",
     "metadata": {},
     "outputs": [],
     "prompt_number": 82
    },
    {
     "cell_type": "code",
     "collapsed": false,
     "input": [
      "max(3,2)"
     ],
     "language": "python",
     "metadata": {},
     "outputs": [
      {
       "metadata": {},
       "output_type": "pyout",
       "prompt_number": 75,
       "text": [
        "3"
       ]
      }
     ],
     "prompt_number": 75
    },
    {
     "cell_type": "code",
     "collapsed": false,
     "input": [],
     "language": "python",
     "metadata": {},
     "outputs": []
    }
   ],
   "metadata": {}
  }
 ]
}