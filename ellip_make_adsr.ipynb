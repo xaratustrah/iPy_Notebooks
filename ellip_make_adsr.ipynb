{
 "metadata": {
  "name": "",
  "signature": "sha256:30b7f24cdd8642a220e28f0e396ccdee21495f682da0c572e3946c1aa955a223"
 },
 "nbformat": 3,
 "nbformat_minor": 0,
 "worksheets": [
  {
   "cells": [
    {
     "cell_type": "code",
     "collapsed": false,
     "input": [
      "import numpy as np\n",
      "from iqtools import *\n",
      "import matplotlib.pyplot as plt\n",
      "%matplotlib inline"
     ],
     "language": "python",
     "metadata": {},
     "outputs": [],
     "prompt_number": 1
    },
    {
     "cell_type": "code",
     "collapsed": false,
     "input": [
      "t, x = make_signal(200, 44100, 1, noise=False)"
     ],
     "language": "python",
     "metadata": {},
     "outputs": [],
     "prompt_number": 10
    },
    {
     "cell_type": "code",
     "collapsed": false,
     "input": [
      "def make_a(fs, l = 1, rt = 0.2):\n",
      "    \"\"\"Make an ADSR curve.\"\"\"\n",
      "\n",
      "    t = np.arange(0, l, 1/fs)\n",
      "    sec = int(len(t)/4)\n",
      "    \n",
      "    x = np.piecewise(t, \n",
      "                     [t< t[sec],\n",
      "                         ((t>=t[sec])&(t<t[sec*2])), \n",
      "                         ((t>=t[sec*2])&(t<t[sec*3])),\n",
      "                         t>=t[sec*3]],\n",
      "         #lambda u: 1-np.e**(-u*5/rt),\n",
      "        #                 lambda u: np.e**(-(u-sec)*5/rt),\n",
      "                         #lambda u: np.e**(-u/(0.3*l/np.log(3/4))),\n",
      "         #                0.75,\n",
      "          #               lambda u: np.e**(-u*5/rt/5)])\n",
      "                          [,\n",
      "                            0.5,\n",
      "                            0.75,\n",
      "                            0.9])\n",
      "    return t, x"
     ],
     "language": "python",
     "metadata": {},
     "outputs": [],
     "prompt_number": 15
    },
    {
     "cell_type": "code",
     "collapsed": false,
     "input": [
      "t, x2 = make_a(44100)"
     ],
     "language": "python",
     "metadata": {},
     "outputs": [],
     "prompt_number": 16
    },
    {
     "cell_type": "code",
     "collapsed": false,
     "input": [
      "def fn(t,sl):\n",
      "    \n",
      "    y=np.e**(-t*7/sl)\n",
      "    return y[1:sl]"
     ],
     "language": "python",
     "metadata": {},
     "outputs": [],
     "prompt_number": 11
    },
    {
     "cell_type": "code",
     "collapsed": false,
     "input": [
      "seg=25    \n",
      "tt=np.arange(100)\n",
      "#plt.plot(tt,1-fn(tt,seg))\n",
      "#plt.plot(tt[25:25*2],fn(tt[25:2*25],25))\n",
      "#plt.plot(tt[25:25*2],fn(tt-seg,seg)[25:25*2])\n",
      "z=np.concatenate((1-fn(tt,seg), .25*fn(tt,seg)+.75 , .75*np.ones((1,25))[0,:], 0.75*fn(tt, seg)+0 ))\n"
     ],
     "language": "python",
     "metadata": {},
     "outputs": [],
     "prompt_number": 12
    },
    {
     "cell_type": "code",
     "collapsed": false,
     "input": [
      "plt.plot(z)"
     ],
     "language": "python",
     "metadata": {},
     "outputs": [
      {
       "metadata": {},
       "output_type": "pyout",
       "prompt_number": 13,
       "text": [
        "[<matplotlib.lines.Line2D at 0x106fdd898>]"
       ]
      },
      {
       "metadata": {},
       "output_type": "display_data",
       "png": "[encoded data removed]",
       "text": [
        "<matplotlib.figure.Figure at 0x106ea0550>"
       ]
      }
     ],
     "prompt_number": 13
    },
    {
     "cell_type": "heading",
     "level": 5,
     "metadata": {},
     "source": [
      "tt"
     ]
    },
    {
     "cell_type": "code",
     "collapsed": false,
     "input": [
      "1-np.e**(-5)"
     ],
     "language": "python",
     "metadata": {},
     "outputs": [
      {
       "metadata": {},
       "output_type": "pyout",
       "prompt_number": 89,
       "text": [
        "0.9932620530009145"
       ]
      }
     ],
     "prompt_number": 89
    },
    {
     "cell_type": "code",
     "collapsed": false,
     "input": [],
     "language": "python",
     "metadata": {},
     "outputs": [],
     "prompt_number": 17
    },
    {
     "cell_type": "code",
     "collapsed": false,
     "input": [
      "0.75*np.ones((1,3))[0,:]"
     ],
     "language": "python",
     "metadata": {},
     "outputs": [
      {
       "metadata": {},
       "output_type": "pyout",
       "prompt_number": 77,
       "text": [
        "array([ 0.75,  0.75,  0.75])"
       ]
      }
     ],
     "prompt_number": 77
    },
    {
     "cell_type": "code",
     "collapsed": false,
     "input": [],
     "language": "python",
     "metadata": {},
     "outputs": []
    }
   ],
   "metadata": {}
  }
 ]
}