{
 "cells": [
  {
   "cell_type": "markdown",
   "metadata": {},
   "source": [
    "# Test iminuit"
   ]
  },
  {
   "cell_type": "code",
   "execution_count": 1,
   "metadata": {
    "collapsed": false
   },
   "outputs": [],
   "source": [
    "# example based on\n",
    "# http://stackoverflow.com/a/22540079/5177935\n",
    "# http://stackoverflow.com/a/40389851/5177935\n",
    "\n",
    "import iminuit\n",
    "import numpy as np"
   ]
  },
  {
   "cell_type": "code",
   "execution_count": 2,
   "metadata": {
    "collapsed": false
   },
   "outputs": [
    {
     "name": "stdout",
     "output_type": "stream",
     "text": [
      "['par_0', 'par_1', 'par_2']\n"
     ]
    },
    {
     "name": "stderr",
     "output_type": "stream",
     "text": [
      "/opt/local/Library/Frameworks/Python.framework/Versions/3.4/lib/python3.4/site-packages/ipykernel/__main__.py:20: InitialParamWarning: errordef is not given. Default to 1.\n",
      "/opt/local/Library/Frameworks/Python.framework/Versions/3.4/lib/python3.4/site-packages/ipykernel/__main__.py:20: InitialParamWarning: Parameter par_0 is floating but does not have initial step size. Assume 1.\n",
      "/opt/local/Library/Frameworks/Python.framework/Versions/3.4/lib/python3.4/site-packages/ipykernel/__main__.py:20: InitialParamWarning: Parameter par_1 is floating but does not have initial step size. Assume 1.\n",
      "/opt/local/Library/Frameworks/Python.framework/Versions/3.4/lib/python3.4/site-packages/ipykernel/__main__.py:20: InitialParamWarning: Parameter par_2 is floating but does not have initial step size. Assume 1.\n"
     ]
    },
    {
     "data": {
      "text/html": [
       "<hr>"
      ]
     },
     "metadata": {},
     "output_type": "display_data"
    },
    {
     "data": {
      "text/html": [
       "\n",
       "        <table>\n",
       "            <tr>\n",
       "                <td title=\"Minimum value of function\">FCN = 0.40573107177643813</td>\n",
       "                <td title=\"Total number of call to FCN so far\">TOTAL NCALL = 131</td>\n",
       "                <td title=\"Number of call in last migrad\">NCALLS = 131</td>\n",
       "            </tr>\n",
       "            <tr>\n",
       "                <td title=\"Estimated distance to minimum\">EDM = 1.3287582588351493e-08</td>\n",
       "                <td title=\"Maximum EDM definition of convergence\">GOAL EDM = 1e-05</td>\n",
       "                <td title=\"Error def. Amount of increase in FCN to be defined as 1 standard deviation\">\n",
       "                UP = 1.0</td>\n",
       "            </tr>\n",
       "        </table>\n",
       "        \n",
       "        <table>\n",
       "            <tr>\n",
       "                <td align=\"center\" title=\"Validity of the migrad call\">Valid</td>\n",
       "                <td align=\"center\" title=\"Validity of parameters\">Valid Param</td>\n",
       "                <td align=\"center\" title=\"Is Covariance matrix accurate?\">Accurate Covar</td>\n",
       "                <td align=\"center\" title=\"Positive definiteness of covariance matrix\">PosDef</td>\n",
       "                <td align=\"center\" title=\"Was covariance matrix made posdef by adding diagonal element\">Made PosDef</td>\n",
       "            </tr>\n",
       "            <tr>\n",
       "                <td align=\"center\" style=\"background-color:#92CCA6\">True</td>\n",
       "                <td align=\"center\" style=\"background-color:#92CCA6\">True</td>\n",
       "                <td align=\"center\" style=\"background-color:#92CCA6\">True</td>\n",
       "                <td align=\"center\" style=\"background-color:#92CCA6\">True</td>\n",
       "                <td align=\"center\" style=\"background-color:#92CCA6\">False</td>\n",
       "            </tr>\n",
       "            <tr>\n",
       "                <td align=\"center\" title=\"Was last hesse call fail?\">Hesse Fail</td>\n",
       "                <td align=\"center\" title=\"Validity of covariance\">HasCov</td>\n",
       "                <td align=\"center\" title=\"Is EDM above goal EDM?\">Above EDM</td>\n",
       "                <td align=\"center\"></td>\n",
       "                <td align=\"center\" title=\"Did last migrad call reach max call limit?\">Reach calllim</td>\n",
       "            </tr>\n",
       "            <tr>\n",
       "                <td align=\"center\" style=\"background-color:#92CCA6\">False</td>\n",
       "                <td align=\"center\" style=\"background-color:#92CCA6\">True</td>\n",
       "                <td align=\"center\" style=\"background-color:#92CCA6\">False</td>\n",
       "                <td align=\"center\"></td>\n",
       "                <td align=\"center\" style=\"background-color:#92CCA6\">False</td>\n",
       "            </tr>\n",
       "        </table>\n",
       "        "
      ]
     },
     "metadata": {},
     "output_type": "display_data"
    },
    {
     "data": {
      "text/html": [
       "\n",
       "        <table>\n",
       "            <tr>\n",
       "                <td><a href=\"#\" onclick=\"$('#cGDCNgDwVs').toggle()\">+</a></td>\n",
       "                <td title=\"Variable name\">Name</td>\n",
       "                <td title=\"Value of parameter\">Value</td>\n",
       "                <td title=\"Parabolic error\">Parab Error</td>\n",
       "                <td title=\"Minos lower error\">Minos Error-</td>\n",
       "                <td title=\"Minos upper error\">Minos Error+</td>\n",
       "                <td title=\"Lower limit of the parameter\">Limit-</td>\n",
       "                <td title=\"Upper limit of the parameter\">Limit+</td>\n",
       "                <td title=\"Is the parameter fixed in the fit\">FIXED</td>\n",
       "            </tr>\n",
       "        \n",
       "            <tr>\n",
       "                <td>1</td>\n",
       "                <td>par_0</td>\n",
       "                <td>4.64292</td>\n",
       "                <td>0.624523</td>\n",
       "                <td>0</td>\n",
       "                <td>0</td>\n",
       "                <td></td>\n",
       "                <td></td>\n",
       "                <td></td>\n",
       "            </tr>\n",
       "            \n",
       "            <tr>\n",
       "                <td>2</td>\n",
       "                <td>par_1</td>\n",
       "                <td>5.01615</td>\n",
       "                <td>0.345292</td>\n",
       "                <td>0</td>\n",
       "                <td>0</td>\n",
       "                <td></td>\n",
       "                <td></td>\n",
       "                <td></td>\n",
       "            </tr>\n",
       "            \n",
       "            <tr>\n",
       "                <td>3</td>\n",
       "                <td>par_2</td>\n",
       "                <td>2.21849</td>\n",
       "                <td>0.358692</td>\n",
       "                <td>0</td>\n",
       "                <td>0</td>\n",
       "                <td></td>\n",
       "                <td></td>\n",
       "                <td></td>\n",
       "            </tr>\n",
       "            \n",
       "            </table>\n",
       "        \n",
       "            <pre id=\"cGDCNgDwVs\" style=\"display:none;\">\n",
       "            <textarea rows=\"12\" cols=\"50\" onclick=\"this.select()\" readonly>\\begin{tabular}{|c|r|r|r|r|r|r|r|c|}\n",
       "\\hline\n",
       " & Name & Value & Para Error & Error+ & Error- & Limit+ & Limit- & FIXED\\\\\n",
       "\\hline\n",
       "1 & $par_{0}$ & 4.643e+00 & 6.245e-01 &  &  &  &  & \\\\\n",
       "\\hline\n",
       "2 & $par_{1}$ & 5.016e+00 & 3.453e-01 &  &  &  &  & \\\\\n",
       "\\hline\n",
       "3 & $par_{2}$ & 2.218e+00 & 3.587e-01 &  &  &  &  & \\\\\n",
       "\\hline\n",
       "\\end{tabular}</textarea>\n",
       "            </pre>\n",
       "            "
      ]
     },
     "metadata": {},
     "output_type": "display_data"
    },
    {
     "data": {
      "text/html": [
       "<hr>"
      ]
     },
     "metadata": {},
     "output_type": "display_data"
    },
    {
     "data": {
      "text/plain": [
       "({'edm': 1.3287582588351493e-08, 'is_above_max_edm': False, 'has_reached_call_limit': False, 'nfcn': 131, 'has_covariance': True, 'has_valid_parameters': True, 'has_accurate_covar': True, 'has_posdef_covar': True, 'is_valid': True, 'up': 1.0, 'hesse_failed': False, 'fval': 0.40573107177643813, 'has_made_posdef_covar': False},\n",
       " [{'name': 'par_0', 'upper_limit': 0.0, 'has_limits': False, 'value': 4.642915648968272, 'has_upper_limit': False, 'number': 0, 'error': 0.62452347160883, 'has_lower_limit': False, 'lower_limit': 0.0, 'is_fixed': False, 'is_const': False},\n",
       "  {'name': 'par_1', 'upper_limit': 0.0, 'has_limits': False, 'value': 5.016147380650779, 'has_upper_limit': False, 'number': 1, 'error': 0.34529159793916453, 'has_lower_limit': False, 'lower_limit': 0.0, 'is_fixed': False, 'is_const': False},\n",
       "  {'name': 'par_2', 'upper_limit': 0.0, 'has_limits': False, 'value': 2.218487446102252, 'has_upper_limit': False, 'number': 2, 'error': 0.3586924501120616, 'has_lower_limit': False, 'lower_limit': 0.0, 'is_fixed': False, 'is_const': False}])"
      ]
     },
     "execution_count": 2,
     "metadata": {},
     "output_type": "execute_result"
    }
   ],
   "source": [
    "import iminuit\n",
    "import numpy as np\n",
    "\n",
    "x_data = np.array([0,1,2,3,4,5,6,7,8,9])\n",
    "y_data = np.array([0,1,2,3,4,5,4,3,2,1])\n",
    "\n",
    "def fit_function(x, *p):\n",
    "    return p[0]*np.exp(-((x-p[1])**2/(2*p[2]**2)))\n",
    "\n",
    "def minimize_me(*p):\n",
    "    return sum((fit_function(x, *p) - y)**2 for x, y in zip(x_data, y_data))\n",
    "\n",
    "\n",
    "p_vals = [4.5, 5, 0.4]\n",
    "p_names = ['par_{}'.format(_) for _ in range(len(p_vals))]\n",
    "\n",
    "m = iminuit.Minuit(\n",
    "    fcn=minimize_me,\n",
    "    forced_parameters=p_names,\n",
    "    **dict(zip(p_names, p_vals))\n",
    ")\n",
    "print(m.parameters)\n",
    "m.migrad()  # works!"
   ]
  },
  {
   "cell_type": "code",
   "execution_count": null,
   "metadata": {
    "collapsed": true
   },
   "outputs": [],
   "source": []
  }
 ],
 "metadata": {
  "kernelspec": {
   "display_name": "Python 3",
   "language": "python",
   "name": "python3"
  },
  "language_info": {
   "codemirror_mode": {
    "name": "ipython",
    "version": 3
   },
   "file_extension": ".py",
   "mimetype": "text/x-python",
   "name": "python",
   "nbconvert_exporter": "python",
   "pygments_lexer": "ipython3",
   "version": "3.4.5"
  }
 },
 "nbformat": 4,
 "nbformat_minor": 1
}
