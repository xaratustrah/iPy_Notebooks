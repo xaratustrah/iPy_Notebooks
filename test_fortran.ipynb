{
 "cells": [
  {
   "cell_type": "code",
   "execution_count": 3,
   "metadata": {
    "collapsed": false
   },
   "outputs": [
    {
     "name": "stdout",
     "output_type": "stream",
     "text": [
      "The fortranmagic extension is already loaded. To reload it, use:\n",
      "  %reload_ext fortranmagic\n"
     ]
    }
   ],
   "source": [
    "%load_ext fortranmagic"
   ]
  },
  {
   "cell_type": "code",
   "execution_count": 1,
   "metadata": {
    "collapsed": false
   },
   "outputs": [
    {
     "name": "stderr",
     "output_type": "stream",
     "text": [
      "ERROR: Cell magic `%%fortran` not found.\n"
     ]
    }
   ],
   "source": [
    "%%fortran\n",
    "\n",
    "Function FourierIntegral (frequenz, Tau, Signal, DimSignal) result(Amplitude)\n",
    "!   dll_export FourierIntegral\n",
    "    REAL*8  Amplitude\n",
    "\n",
    "    REAL*8  frequenz, Tau\n",
    "    REAL*8  signal\n",
    "    integer :: DimSignal\n",
    "    dimension signal(0:DimSignal)\n",
    "\n",
    "!   COMMON /global/ signal(0:1000)\n",
    "\n",
    "    parameter (PI = 3.14159265358979)\n",
    "    integer :: i, j, j20\n",
    "    REAL*8  ycos, ysin, omega\n",
    "    REAL*8  calt, salt, s, c, sd, cd\n",
    "\n",
    "    omega = 2 * PI * frequenz\n",
    "    salt = 0\n",
    "    calt = 1\n",
    "    sd = Sin(omega * Tau)\n",
    "    cd = Cos(omega * Tau)\n",
    "    ycos = 0\n",
    "    ysin = 0\n",
    "    do j = 0, DimSignal / 20 - 1\n",
    "        j20 = j * 20\n",
    "        salt = Sin(j20 * omega * Tau)\n",
    "        calt = Cos(j20 * omega * Tau)\n",
    "        do i = j20 + 1, j20 + 20\n",
    "            s = salt * cd + calt * sd\n",
    "            c = calt * cd - salt * sd\n",
    "            ycos = ycos + Signal(i) * c\n",
    "            ysin = ysin + Signal(i) * s\n",
    "            calt = c\n",
    "            salt = s\n",
    "        enddo\n",
    "    enddo\n",
    "    ycos = ycos * Tau\n",
    "    ysin = ysin * Tau\n",
    "    Amplitude = SQRT(ycos * ycos + ysin * ysin)\n",
    "end"
   ]
  },
  {
   "cell_type": "code",
   "execution_count": 8,
   "metadata": {
    "collapsed": false
   },
   "outputs": [
    {
     "name": "stdout",
     "output_type": "stream",
     "text": [
      "amplitude = fourierintegral(frequenz,tau,signal,[dimsignal])\n",
      "\n",
      "Wrapper for ``fourierintegral``.\n",
      "\n",
      "Parameters\n",
      "----------\n",
      "frequenz : input float\n",
      "tau : input float\n",
      "signal : input rank-1 array('d') with bounds (dimsignal + 1)\n",
      "\n",
      "Other Parameters\n",
      "----------------\n",
      "dimsignal : input int, optional\n",
      "    Default: (len(signal)-1)\n",
      "\n",
      "Returns\n",
      "-------\n",
      "amplitude : float\n",
      "\n"
     ]
    }
   ],
   "source": [
    "print(fourierintegral.__doc__)"
   ]
  },
  {
   "cell_type": "code",
   "execution_count": 18,
   "metadata": {
    "collapsed": false
   },
   "outputs": [
    {
     "data": {
      "text/plain": [
       "array([ 495.75628076 +0.j        ,    3.00465458 +0.90894388j,\n",
       "          3.32554977 -0.54048268j, ...,    4.63560779-19.69142199j,\n",
       "          3.32554977 +0.54048268j,    3.00465458 -0.90894388j])"
      ]
     },
     "execution_count": 18,
     "metadata": {},
     "output_type": "execute_result"
    }
   ],
   "source": [
    "import random, scipy\n",
    "x= [random.random() for a in range (1024)]\n",
    "y = scipy.fft(s)"
   ]
  },
  {
   "cell_type": "code",
   "execution_count": 16,
   "metadata": {
    "collapsed": false
   },
   "outputs": [
    {
     "data": {
      "text/plain": [
       "0.0"
      ]
     },
     "execution_count": 16,
     "metadata": {},
     "output_type": "execute_result"
    }
   ],
   "source": [
    "fourierintegral(3., 5., s)"
   ]
  },
  {
   "cell_type": "code",
   "execution_count": 2,
   "metadata": {
    "collapsed": true
   },
   "outputs": [],
   "source": [
    "import numpy as np"
   ]
  },
  {
   "cell_type": "code",
   "execution_count": 20,
   "metadata": {
    "collapsed": false
   },
   "outputs": [],
   "source": [
    "a = np.zeros(4, dtype=np.complex64)"
   ]
  },
  {
   "cell_type": "code",
   "execution_count": 24,
   "metadata": {
    "collapsed": false
   },
   "outputs": [
    {
     "data": {
      "text/plain": [
       "dtype('float32')"
      ]
     },
     "execution_count": 24,
     "metadata": {},
     "output_type": "execute_result"
    }
   ],
   "source": [
    "a.dtype"
   ]
  },
  {
   "cell_type": "code",
   "execution_count": 23,
   "metadata": {
    "collapsed": false
   },
   "outputs": [],
   "source": [
    "a = np.array([2,3,4,5], dtype=np.float32)"
   ]
  },
  {
   "cell_type": "code",
   "execution_count": 25,
   "metadata": {
    "collapsed": false
   },
   "outputs": [
    {
     "data": {
      "text/plain": [
       "array([ 2.+3.j,  4.+5.j], dtype=complex64)"
      ]
     },
     "execution_count": 25,
     "metadata": {},
     "output_type": "execute_result"
    }
   ],
   "source": [
    "a.view(dtype=np.complex64)"
   ]
  },
  {
   "cell_type": "code",
   "execution_count": 1,
   "metadata": {
    "collapsed": false
   },
   "outputs": [
    {
     "name": "stdout",
     "output_type": "stream",
     "text": [
      "1000 loops, best of 3: 980 µs per loop\n"
     ]
    }
   ],
   "source": [
    "import numpy\n",
    "b = numpy.random.rand(2**16)\n",
    "b = b.astype(numpy.float32)\n",
    "b = b.view(numpy.complex64)\n",
    "%timeit c = numpy.fft.fft(b)"
   ]
  },
  {
   "cell_type": "code",
   "execution_count": null,
   "metadata": {
    "collapsed": true
   },
   "outputs": [],
   "source": []
  }
 ],
 "metadata": {
  "kernelspec": {
   "display_name": "Python 3",
   "language": "python",
   "name": "python3"
  },
  "language_info": {
   "codemirror_mode": {
    "name": "ipython",
    "version": 3
   },
   "file_extension": ".py",
   "mimetype": "text/x-python",
   "name": "python",
   "nbconvert_exporter": "python",
   "pygments_lexer": "ipython3",
   "version": "3.4.5"
  }
 },
 "nbformat": 4,
 "nbformat_minor": 0
}
