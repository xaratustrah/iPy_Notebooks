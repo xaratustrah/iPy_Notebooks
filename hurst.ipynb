{
 "cells": [
  {
   "cell_type": "code",
   "execution_count": 1,
   "metadata": {
    "collapsed": false
   },
   "outputs": [],
   "source": [
    "from iqtools import *\n",
    "import numpy as np\n",
    "from pylab import psd\n",
    "import matplotlib.pyplot as plt\n",
    "%matplotlib inline\n",
    "from pyeeg import *"
   ]
  },
  {
   "cell_type": "code",
   "execution_count": 2,
   "metadata": {
    "collapsed": false
   },
   "outputs": [
    {
     "name": "stderr",
     "output_type": "stream",
     "text": [
      "/Users/shahab/Documents/Work_Directories/git/iq_suite/pyeeg.py:85: RuntimeWarning: invalid value encountered in true_divide\n",
      "  R_S = R_T / S_T\n"
     ]
    },
    {
     "data": {
      "text/plain": [
       "0.52731651843791005"
      ]
     },
     "execution_count": 2,
     "metadata": {},
     "output_type": "execute_result"
    }
   ],
   "source": [
    "a = np.random.randn(4096)\n",
    "hurst(a)"
   ]
  },
  {
   "cell_type": "code",
   "execution_count": 10,
   "metadata": {
    "collapsed": true
   },
   "outputs": [],
   "source": [
    "#filename = '238UFrag-2014.10.16.22.59.27.383.tiq'\n",
    "filename='RSA51-2014.10.12.00.00.18.259.TIQ'\n",
    "iq_data= IQData()\n",
    "_,_ = iq_data.read_tiq(filename, 10, 1024, 357)\n",
    "#_,_ = iq_data.read_tiq(filename, 10, 1024, 1550)\n",
    "x1 = iq_data.data_array\n",
    "fs1 = iq_data.fs\n",
    "center1 = iq_data.center\n",
    "span1 = iq_data.span\n",
    "#f, p = get_pwelch(x1, fs1)\n",
    "#f_peak, p_peak = get_broad_peak_dbm(f, p)\n",
    "#plot_dbm_per_hz(f, p, 0, span1)\n",
    "#plt.plot(f_peak, p_peak, 'rv')\n",
    "#print(f_peak[0], center1+f_peak[0], p_peak[0])\n",
    "#np.savetxt('for_rqa_before.txt', np.real(x1)*1e6)"
   ]
  },
  {
   "cell_type": "code",
   "execution_count": 11,
   "metadata": {
    "collapsed": false
   },
   "outputs": [
    {
     "name": "stderr",
     "output_type": "stream",
     "text": [
      "/Users/shahab/Documents/Work_Directories/git/iq_suite/pyeeg.py:83: ComplexWarning: Casting complex values to real discards the imaginary part\n",
      "  R_T[i] = max(X_T[:i + 1]) - min(X_T[:i + 1])\n",
      "/Users/shahab/Documents/Work_Directories/git/iq_suite/pyeeg.py:85: RuntimeWarning: invalid value encountered in true_divide\n",
      "  R_S = R_T / S_T\n"
     ]
    },
    {
     "data": {
      "text/plain": [
       "0.51350943686708861"
      ]
     },
     "execution_count": 11,
     "metadata": {},
     "output_type": "execute_result"
    }
   ],
   "source": [
    "hurst(x1)"
   ]
  },
  {
   "cell_type": "code",
   "execution_count": null,
   "metadata": {
    "collapsed": true
   },
   "outputs": [],
   "source": []
  }
 ],
 "metadata": {
  "kernelspec": {
   "display_name": "Python 3",
   "language": "python",
   "name": "python3"
  },
  "language_info": {
   "codemirror_mode": {
    "name": "ipython",
    "version": 3
   },
   "file_extension": ".py",
   "mimetype": "text/x-python",
   "name": "python",
   "nbconvert_exporter": "python",
   "pygments_lexer": "ipython3",
   "version": "3.4.3"
  }
 },
 "nbformat": 4,
 "nbformat_minor": 0
}
