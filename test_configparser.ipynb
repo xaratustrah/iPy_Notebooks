{
 "cells": [
  {
   "cell_type": "code",
   "execution_count": 17,
   "metadata": {
    "collapsed": false
   },
   "outputs": [],
   "source": [
    "str = \"\"\"40472Type=RSA3408AIQT\n",
    "FrameReverse=Off\n",
    "FramePadding=Before\n",
    "Band=RF1\n",
    "MemoryMode=Zoom\n",
    "FFTPoints=1024\n",
    "Bins=641\n",
    "MaxInputLevel=10\n",
    "LevelOffset=0\n",
    "CenterFrequency=244.6117414M\n",
    "FrequencyOffset=0\n",
    "Span=20k\n",
    "BlockSize=313\n",
    "ValidFrames=313\n",
    "FramePeriod=32m\n",
    "UnitPeriod=32m\n",
    "FrameLength=32m\n",
    "DateTime=2012/08/09@22:35:41\n",
    "GainOffset=-82.105762280147\n",
    "MultiFrames=1\n",
    "MultiAddr=0\n",
    "IOffset=0\n",
    "QOffset=0\n",
    "TriggerPosition=0\n",
    "TriggerSource=Ext\n",
    "TriggerSlope=Rise\n",
    "TriggerOutputDelay=0\n",
    "\"\"\""
   ]
  },
  {
   "cell_type": "code",
   "execution_count": 23,
   "metadata": {
    "collapsed": false
   },
   "outputs": [
    {
     "data": {
      "text/plain": [
       "{'': '',\n",
       " '40472Type': 'RSA3408AIQT',\n",
       " 'Band': 'RF1',\n",
       " 'Bins': '641',\n",
       " 'BlockSize': '313',\n",
       " 'CenterFrequency': '244.6117414e6',\n",
       " 'DateTime': '2012/08/09@22:35:41',\n",
       " 'FFTPoints': '1024',\n",
       " 'FrameLength': '32e-3',\n",
       " 'FramePadding': 'Before',\n",
       " 'FramePeriod': '32e-3',\n",
       " 'FrameReverse': 'Off',\n",
       " 'FrequencyOffset': '0',\n",
       " 'GainOffset': '-82.105762280147',\n",
       " 'IOffset': '0',\n",
       " 'LevelOffset': '0',\n",
       " 'MaxInputLevel': '10',\n",
       " 'MemoryMode': 'Zooe-3',\n",
       " 'MultiAddr': '0',\n",
       " 'MultiFrames': '1',\n",
       " 'QOffset': '0',\n",
       " 'Span': '20e3',\n",
       " 'TriggerOutputDelay': '0',\n",
       " 'TriggerPosition': '0',\n",
       " 'TriggerSlope': 'Rise',\n",
       " 'TriggerSource': 'Ext',\n",
       " 'UnitPeriod': '32e-3',\n",
       " 'ValidFrames': '313'}"
      ]
     },
     "execution_count": 23,
     "metadata": {},
     "output_type": "execute_result"
    }
   ],
   "source": [
    "myvars = {}\n",
    "for line in str2:\n",
    "    name, var = line.partition(\"=\")[::2]\n",
    "    var = var.strip()\n",
    "    var = var.replace('m', 'e-3')\n",
    "    var = var.replace('k', 'e3')\n",
    "    var = var.replace('M', 'e6')\n",
    "    myvars[name.strip()] = var\n",
    "myvars"
   ]
  },
  {
   "cell_type": "code",
   "execution_count": 10,
   "metadata": {
    "collapsed": false
   },
   "outputs": [
    {
     "data": {
      "text/plain": [
       "'244.61174141e6'"
      ]
     },
     "execution_count": 10,
     "metadata": {},
     "output_type": "execute_result"
    }
   ],
   "source": [
    "('244.6117414M').replace('M', '1e6')"
   ]
  },
  {
   "cell_type": "code",
   "execution_count": 20,
   "metadata": {
    "collapsed": false
   },
   "outputs": [
    {
     "data": {
      "text/plain": [
       "'40472Type=RSA3408AIQT\\nFrameReverse=Off\\nFramePadding=Before\\nBand=RF1\\nMemoryMode=Zoom\\nFFTPoints=1024\\nBins=641\\nMaxInputLevel=10\\nLevelOffset=0\\nCenterFrequency=244.6117414M\\nFrequencyOffset=0\\nSpan=20k\\nBlockSize=313\\nValidFrames=313\\nFramePeriod=32m\\nUnitPeriod=32m\\nFrameLength=32m\\nDateTime=2012/08/09@22:35:41\\nGainOffset=-82.105762280147\\nMultiFrames=1\\nMultiAddr=0\\nIOffset=0\\nQOffset=0\\nTriggerPosition=0\\nTriggerSource=Ext\\nTriggerSlope=Rise\\nTriggerOutputDelay=0\\n'"
      ]
     },
     "execution_count": 20,
     "metadata": {},
     "output_type": "execute_result"
    }
   ],
   "source": [
    "str"
   ]
  },
  {
   "cell_type": "code",
   "execution_count": 22,
   "metadata": {
    "collapsed": false
   },
   "outputs": [],
   "source": [
    "str2 = str.split('\\n')"
   ]
  },
  {
   "cell_type": "code",
   "execution_count": null,
   "metadata": {
    "collapsed": true
   },
   "outputs": [],
   "source": []
  }
 ],
 "metadata": {
  "kernelspec": {
   "display_name": "Python 3",
   "language": "python",
   "name": "python3"
  },
  "language_info": {
   "codemirror_mode": {
    "name": "ipython",
    "version": 3
   },
   "file_extension": ".py",
   "mimetype": "text/x-python",
   "name": "python",
   "nbconvert_exporter": "python",
   "pygments_lexer": "ipython3",
   "version": "3.4.3"
  }
 },
 "nbformat": 4,
 "nbformat_minor": 0
}
