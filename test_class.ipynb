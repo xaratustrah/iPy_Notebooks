{
 "cells": [
  {
   "cell_type": "code",
   "execution_count": 1,
   "metadata": {
    "collapsed": false
   },
   "outputs": [
    {
     "name": "stdout",
     "output_type": "stream",
     "text": [
      "{'other_number': 0, 'some_number': 0}\n",
      "[0, 0]\n",
      "{'other_number': 0, 'some_number': 0}\n",
      "[0, 0]\n"
     ]
    }
   ],
   "source": [
    "class Test():\n",
    "    def __init__(self):\n",
    "        self.some_number = 0\n",
    "        self.other_number = 0\n",
    "        self.lst=[self.some_number, self.other_number]\n",
    "        self.dic={'some_number': self.some_number, 'other_number': self.other_number}\n",
    "\n",
    "    def update_values(self):\n",
    "        self.number = 2\n",
    "        self.other_number = 3\n",
    "\n",
    "test = Test()                  \n",
    "\n",
    "print(test.dic)\n",
    "print(test.lst)\n",
    "\n",
    "test.update_values()\n",
    "\n",
    "print(test.dic)\n",
    "print(test.lst)"
   ]
  },
  {
   "cell_type": "code",
   "execution_count": 6,
   "metadata": {
    "collapsed": true
   },
   "outputs": [],
   "source": [
    "a = ['asd', 12.3, 3]"
   ]
  },
  {
   "cell_type": "code",
   "execution_count": null,
   "metadata": {
    "collapsed": true
   },
   "outputs": [],
   "source": []
  }
 ],
 "metadata": {
  "kernelspec": {
   "display_name": "Python 3",
   "language": "python",
   "name": "python3"
  },
  "language_info": {
   "codemirror_mode": {
    "name": "ipython",
    "version": 3
   },
   "file_extension": ".py",
   "mimetype": "text/x-python",
   "name": "python",
   "nbconvert_exporter": "python",
   "pygments_lexer": "ipython3",
   "version": "3.4.3"
  }
 },
 "nbformat": 4,
 "nbformat_minor": 0
}
