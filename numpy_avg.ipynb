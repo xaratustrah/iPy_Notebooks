{
 "cells": [
  {
   "cell_type": "code",
   "execution_count": 1,
   "metadata": {},
   "outputs": [],
   "source": [
    "# Averging rows and columns in Numpy"
   ]
  },
  {
   "cell_type": "code",
   "execution_count": 2,
   "metadata": {},
   "outputs": [],
   "source": [
    "import numpy"
   ]
  },
  {
   "cell_type": "code",
   "execution_count": 3,
   "metadata": {},
   "outputs": [
    {
     "name": "stdout",
     "output_type": "stream",
     "text": [
      "[[7 1 7 2 8 6 0 2]\n",
      " [8 7 0 7 7 4 9 3]\n",
      " [0 3 9 5 7 1 5 6]\n",
      " [9 5 5 0 0 2 5 6]\n",
      " [1 9 4 4 5 7 9 1]\n",
      " [7 8 3 3 2 1 4 6]]\n"
     ]
    }
   ],
   "source": [
    "a = numpy.random.randint(10, size=(6,8))\n",
    "print(a)"
   ]
  },
  {
   "cell_type": "code",
   "execution_count": 4,
   "metadata": {},
   "outputs": [
    {
     "name": "stdout",
     "output_type": "stream",
     "text": [
      "[[15  8  7  9 15 10  9  5]\n",
      " [ 9  8 14  5  7  3 10 12]\n",
      " [ 8 17  7  7  7  8 13  7]]\n"
     ]
    }
   ],
   "source": [
    "b = numpy.sum(np.reshape(a, (3, 2, 8)), axis=1)\n",
    "print(b)"
   ]
  },
  {
   "cell_type": "code",
   "execution_count": 5,
   "metadata": {},
   "outputs": [
    {
     "name": "stdout",
     "output_type": "stream",
     "text": [
      "[[23 16 25 14]\n",
      " [17 19 10 22]\n",
      " [25 14 15 20]]\n"
     ]
    }
   ],
   "source": [
    "c = numpy.sum(numpy.reshape(b, (3, 4, 2)), axis=2)\n",
    "print(c)"
   ]
  },
  {
   "cell_type": "code",
   "execution_count": null,
   "metadata": {},
   "outputs": [],
   "source": []
  }
 ],
 "metadata": {
  "kernelspec": {
   "display_name": "Python 3",
   "language": "python",
   "name": "python3"
  },
  "language_info": {
   "codemirror_mode": {
    "name": "ipython",
    "version": 3
   },
   "file_extension": ".py",
   "mimetype": "text/x-python",
   "name": "python",
   "nbconvert_exporter": "python",
   "pygments_lexer": "ipython3",
   "version": "3.6.4"
  }
 },
 "nbformat": 4,
 "nbformat_minor": 2
}
